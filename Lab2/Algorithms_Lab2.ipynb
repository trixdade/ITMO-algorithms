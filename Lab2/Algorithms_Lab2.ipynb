{
 "cells": [
  {
   "cell_type": "code",
   "execution_count": 140,
   "id": "da39b835-ad91-443a-b674-a0f22a6edc14",
   "metadata": {},
   "outputs": [],
   "source": [
    "import pandas as pd\n",
    "import numpy as np\n",
    "import matplotlib.pyplot as plt\n",
    "import seaborn as sns\n",
    "from scipy import optimize\n",
    "import math\n",
    "import timeit\n",
    "from tqdm.notebook import tqdm"
   ]
  },
  {
   "cell_type": "code",
   "execution_count": 7,
   "id": "2998e647-7821-42ae-a037-70045ac06c1a",
   "metadata": {},
   "outputs": [],
   "source": [
    "def f_1(x):\n",
    "    return np.power(x, 3)\n",
    "\n",
    "def f_2(x):\n",
    "    return np.abs(x-0.2)\n",
    "\n",
    "def f_3(x):\n",
    "    return np.multiply(x, np.sin(1/x))"
   ]
  },
  {
   "cell_type": "code",
   "execution_count": 9,
   "id": "0c9e380e-5bf8-4b2e-b0ea-d05e3ba673e1",
   "metadata": {},
   "outputs": [],
   "source": [
    "def exhaustive_search(f, a, b):\n",
    "    n = (b-a)/eps\n",
    "    f_min = f(a)\n",
    "    count = 1\n",
    "    x_min = a\n",
    "    for i in range(int(n)):\n",
    "        f_new = f(a + i*(b-a)/n)\n",
    "        count += 1\n",
    "        if f_new < f_min:\n",
    "            f_min = f_new\n",
    "            x_min = a + i*(b-a)/n\n",
    "    \n",
    "    return x_min, count, int(n)"
   ]
  },
  {
   "cell_type": "code",
   "execution_count": 10,
   "id": "1fa7a6f5-8cb8-46b8-a429-3d95d8ea67b1",
   "metadata": {
    "tags": []
   },
   "outputs": [],
   "source": [
    "def dichotomy(f, a, b):\n",
    "    beta = eps/2\n",
    "    count = 0\n",
    "    iterations = 0\n",
    "    while np.abs(a-b) > eps:\n",
    "        iterations +=1\n",
    "        x_1 = (a + b - beta)/2\n",
    "        x_2 = (a + b + beta)/2\n",
    "        count += 2\n",
    "        \n",
    "        if f(x_1) <= f(x_2):\n",
    "            b = x_2\n",
    "        else:\n",
    "            a = x_1\n",
    "    \n",
    "    return (a+b) / 2, count, int(iterations)"
   ]
  },
  {
   "cell_type": "code",
   "execution_count": 6,
   "id": "ea58d535-0ac3-47b6-81d3-d799c5aa01c9",
   "metadata": {},
   "outputs": [],
   "source": [
    "invphi = (math.sqrt(5) - 1) / 2 \n",
    "invphi2 = (3 - math.sqrt(5)) / 2 \n",
    "\n",
    "def golden_section_search(f, a, b):\n",
    "    count = 0\n",
    "    (a, b) = (min(a, b), max(a, b))\n",
    "    h = b - a\n",
    "\n",
    "    # Required steps to achieve eps\n",
    "    n = int(math.ceil(math.log(eps / h) / math.log(invphi)))\n",
    "\n",
    "    c = a + invphi2 * h\n",
    "    d = a + invphi * h\n",
    "    yc = f(c)\n",
    "    yd = f(d)\n",
    "    count = 2\n",
    "    for k in range(n-1):\n",
    "        if yc < yd:\n",
    "            b = d\n",
    "            d = c\n",
    "            yd = yc\n",
    "            h = invphi * h\n",
    "            c = a + invphi2 * h\n",
    "            yc = f(c)\n",
    "            count += 1\n",
    "        else:\n",
    "            a = c\n",
    "            c = d\n",
    "            yc = yd\n",
    "            h = invphi * h\n",
    "            d = a + invphi * h\n",
    "            yd = f(d)\n",
    "            count += 1\n",
    "\n",
    "    if yc < yd:\n",
    "        return (a+d)/2, count, n\n",
    "    else:\n",
    "        return (c+b)/2, count, n"
   ]
  },
  {
   "cell_type": "code",
   "execution_count": 10,
   "id": "675d3a96-3be5-475a-9788-36aa28b0b552",
   "metadata": {},
   "outputs": [
    {
     "data": {
      "text/plain": [
       "(0, 10001, 10000)"
      ]
     },
     "execution_count": 10,
     "metadata": {},
     "output_type": "execute_result"
    }
   ],
   "source": [
    "# exhaustive_search\n",
    "exhaustive_search(f_1, 0, 1)"
   ]
  },
  {
   "cell_type": "code",
   "execution_count": 11,
   "id": "f37a2d4f-3af7-4b20-8c7f-ebacfae14efa",
   "metadata": {},
   "outputs": [
    {
     "data": {
      "text/plain": [
       "(0.2, 10001, 10000)"
      ]
     },
     "execution_count": 11,
     "metadata": {},
     "output_type": "execute_result"
    }
   ],
   "source": [
    "exhaustive_search(f_2, 0, 1)"
   ]
  },
  {
   "cell_type": "code",
   "execution_count": 12,
   "id": "46405a0e-5387-4901-8e7f-8f170bbb6fbf",
   "metadata": {},
   "outputs": [
    {
     "data": {
      "text/plain": [
       "(0.2225, 9901, 9900)"
      ]
     },
     "execution_count": 12,
     "metadata": {},
     "output_type": "execute_result"
    }
   ],
   "source": [
    "exhaustive_search(f_3, 0.01, 1)"
   ]
  },
  {
   "cell_type": "code",
   "execution_count": 13,
   "id": "2daf9b0a-0f5f-4051-8812-4b987d9f46ef",
   "metadata": {},
   "outputs": [
    {
     "data": {
      "text/plain": [
       "(4.0258026123046875e-05, 30, 15)"
      ]
     },
     "execution_count": 13,
     "metadata": {},
     "output_type": "execute_result"
    }
   ],
   "source": [
    "# dichotomy\n",
    "dichotomy(f_1, 0, 1)"
   ]
  },
  {
   "cell_type": "code",
   "execution_count": 14,
   "id": "971af3f9-0c16-4455-98f3-d9a2a8ce744d",
   "metadata": {},
   "outputs": [
    {
     "data": {
      "text/plain": [
       "(0.2000119483947754, 30, 15)"
      ]
     },
     "execution_count": 14,
     "metadata": {},
     "output_type": "execute_result"
    }
   ],
   "source": [
    "dichotomy(f_2, 0, 1)"
   ]
  },
  {
   "cell_type": "code",
   "execution_count": 15,
   "id": "7543dc83-d8b0-4520-b7b1-35214cdfad8f",
   "metadata": {},
   "outputs": [
    {
     "data": {
      "text/plain": [
       "(0.22254341049194337, 30, 15)"
      ]
     },
     "execution_count": 15,
     "metadata": {},
     "output_type": "execute_result"
    }
   ],
   "source": [
    "dichotomy(f_3, 0.01, 1)"
   ]
  },
  {
   "cell_type": "code",
   "execution_count": 16,
   "id": "395e1859-82d7-4090-8f11-329b708fd84f",
   "metadata": {},
   "outputs": [
    {
     "data": {
      "text/plain": [
       "(3.305348067594804e-05, 21, 20)"
      ]
     },
     "execution_count": 16,
     "metadata": {},
     "output_type": "execute_result"
    }
   ],
   "source": [
    "# golden section search\n",
    "golden_section_search(f_1, 0, 1)"
   ]
  },
  {
   "cell_type": "code",
   "execution_count": 17,
   "id": "24ca6e73-c030-49d4-8ba2-f03cef373777",
   "metadata": {},
   "outputs": [
    {
     "data": {
      "text/plain": [
       "(0.2000198320884056, 21, 20)"
      ]
     },
     "execution_count": 17,
     "metadata": {},
     "output_type": "execute_result"
    }
   ],
   "source": [
    "golden_section_search(f_2, 0, 1)"
   ]
  },
  {
   "cell_type": "code",
   "execution_count": 18,
   "id": "8320c640-2511-4a6d-a184-202c92ca85bb",
   "metadata": {},
   "outputs": [
    {
     "data": {
      "text/plain": [
       "(0.22253575499749817, 21, 20)"
      ]
     },
     "execution_count": 18,
     "metadata": {},
     "output_type": "execute_result"
    }
   ],
   "source": [
    "golden_section_search(f_3, 0.01, 1)"
   ]
  },
  {
   "cell_type": "markdown",
   "id": "0ddec086-5b75-4951-860c-4daff5ff9008",
   "metadata": {},
   "source": [
    "<h1>Task 2</h1>"
   ]
  },
  {
   "cell_type": "code",
   "execution_count": 366,
   "id": "20099ddd-5ab0-4443-a7f5-78624735510e",
   "metadata": {},
   "outputs": [
    {
     "data": {
      "text/plain": [
       "(0.7133135232008959, 0.5449205736556519)"
      ]
     },
     "execution_count": 366,
     "metadata": {},
     "output_type": "execute_result"
    }
   ],
   "source": [
    "alpha = np.random.uniform(0, 1)\n",
    "beta = np.random.uniform(0, 1)\n",
    "x = np.linspace(0, 1, 101)\n",
    "y = np.zeros(101)\n",
    "y_no_noise = np.zeros(101)\n",
    "alpha, beta"
   ]
  },
  {
   "cell_type": "code",
   "execution_count": 385,
   "id": "e02a0e8a-faec-4fde-a37a-4410775291da",
   "metadata": {},
   "outputs": [],
   "source": [
    "for i in range(len(x)):\n",
    "    y[i] = alpha*x[i] + beta + np.random.normal(0, 1)\n",
    "    \n",
    "for i in range(len(x)):\n",
    "    y_no_noise[i] = alpha*x[i] + beta"
   ]
  },
  {
   "cell_type": "code",
   "execution_count": 386,
   "id": "e469dc27-4380-4f13-af07-999a2b4b8a48",
   "metadata": {},
   "outputs": [],
   "source": [
    "def f_linear(x, a, b):\n",
    "    return a * x + b\n",
    "\n",
    "def f_rational(x, a, b):\n",
    "    return a / (1 + b * x)"
   ]
  },
  {
   "cell_type": "code",
   "execution_count": 406,
   "id": "d22c88a0-ece2-4d43-b2b1-38a7a9240ad3",
   "metadata": {},
   "outputs": [
    {
     "data": {
      "image/png": "[encoded data removed]",
      "text/plain": [
       "<Figure size 864x648 with 1 Axes>"
      ]
     },
     "metadata": {
      "needs_background": "light"
     },
     "output_type": "display_data"
    }
   ],
   "source": [
    "plt.figure(figsize=(12,9))\n",
    "plt.scatter(x, y, label='Noisy data', color='green')\n",
    "plt.plot(x, y_no_noise, label='Generative line')\n",
    "plt.legend()\n",
    "plt.savefig(\"generative.png\")"
   ]
  },
  {
   "cell_type": "code",
   "execution_count": 388,
   "id": "d994fc20-6a71-4f9a-8081-c5bc0dc65bee",
   "metadata": {},
   "outputs": [],
   "source": [
    "def least_squares(ab):\n",
    "    a, b = ab\n",
    "    global x, y \n",
    "    lst_sqr = [(f_linear(x[i],a,b) - y[i]) ** 2 for i in range(len(x))]       \n",
    "    return np.sum(lst_sqr)"
   ]
  },
  {
   "cell_type": "code",
   "execution_count": 389,
   "id": "0297c9c3-caaf-4a6c-bcae-270fda9ed788",
   "metadata": {},
   "outputs": [],
   "source": [
    "def brute_2d(func, limits, eps):\n",
    "    ab1, ab2 = limits\n",
    "    \n",
    "    a1, b1 = ab1\n",
    "    n1 = int((b1 - a1) / eps)  \n",
    "    \n",
    "    a2, b2 = ab2\n",
    "    n2 = int((b2 - a2) / eps)\n",
    "    \n",
    "    min_y = float(\"inf\")\n",
    "    min_x = 0\n",
    "    \n",
    "    for k1 in tqdm(range(n1 + 1)):\n",
    "        x1 = a1 + k1 * (b1 - a1) / n1\n",
    "        for k2 in range(n2 + 1):\n",
    "            x2 = a2 + k2 * (b2 - a2) / n2\n",
    "            \n",
    "            y = func((x1, x2))\n",
    "            if y < min_y:\n",
    "                min_y = y\n",
    "                min_x = (x1, x2)\n",
    "    return min_x, min_y"
   ]
  },
  {
   "cell_type": "code",
   "execution_count": 395,
   "id": "e7268617-ea84-44cb-a75d-fca6673dd099",
   "metadata": {},
   "outputs": [
    {
     "data": {
      "application/vnd.jupyter.widget-view+json": {
       "model_id": "b120d4a6e7f948b7811e90279e020622",
       "version_major": 2,
       "version_minor": 0
      },
      "text/plain": [
       "  0%|          | 0/334 [00:00<?, ?it/s]"
      ]
     },
     "metadata": {},
     "output_type": "display_data"
    }
   ],
   "source": [
    "lin_exh_x, lin_exh_b = brute_2d(least_squares, limits=((0, 1), (0, 1)), eps=0.003)[0]"
   ]
  },
  {
   "cell_type": "code",
   "execution_count": 396,
   "id": "3e6358a9-2df5-49ec-9257-7cc7b832b6b5",
   "metadata": {},
   "outputs": [],
   "source": [
    "lin_gauss_x, lin_gauss_b = optimize.minimize(least_squares, [1, 1], method='Powell').x"
   ]
  },
  {
   "cell_type": "code",
   "execution_count": 397,
   "id": "af755476-afc8-4214-8831-6ba37743c7af",
   "metadata": {},
   "outputs": [],
   "source": [
    "lin_NM_x, lin_NM_b = optimize.minimize(least_squares, [1, 1], method='Nelder-Mead', options={'xatol' : 1e-3}).x"
   ]
  },
  {
   "cell_type": "code",
   "execution_count": 405,
   "id": "9ca76271-f1f8-4c2a-8e8a-793f88fc9691",
   "metadata": {},
   "outputs": [
    {
     "data": {
      "image/png": "[encoded data removed]",
      "text/plain": [
       "<Figure size 864x648 with 1 Axes>"
      ]
     },
     "metadata": {
      "needs_background": "light"
     },
     "output_type": "display_data"
    }
   ],
   "source": [
    "plt.figure(figsize=(12,9))\n",
    "plt.scatter(x, y, marker=\"x\", color='green')\n",
    "plt.plot(x, y_no_noise, color='red', label='Generative line')\n",
    "plt.plot(x, [f_linear(x[i], lin_exh_x, lin_exh_b) for i in  range(len(x))], label='Exhaustive Search', color='black', linewidth=1)\n",
    "plt.plot(x, [f_linear(x[i], lin_gauss_x, lin_gauss_b) for i in  range(len(x))], label='Gauss', color='yellow', linewidth=1)\n",
    "plt.plot(x, [f_linear(x[i], lin_NM_x, lin_NM_b) for i in  range(len(x))], label='Nelder-Mead', color='blue', linewidth=1)\n",
    "plt.legend()\n",
    "plt.savefig(\"linear\")"
   ]
  },
  {
   "cell_type": "code",
   "execution_count": 399,
   "id": "b0a8862a-44a9-48b0-aa26-dedb26a45889",
   "metadata": {},
   "outputs": [],
   "source": [
    "def least_squares_rational(ab):\n",
    "    a, b = ab\n",
    "    global x, y\n",
    "    return np.sum( (f_rational(x, a, b) - y)**2) / x.shape[0]"
   ]
  },
  {
   "cell_type": "code",
   "execution_count": 400,
   "id": "24f5eada-310e-4c0b-a61c-106176212daa",
   "metadata": {},
   "outputs": [
    {
     "data": {
      "application/vnd.jupyter.widget-view+json": {
       "model_id": "1f9ab34ff4de45d984b4db728b7bb86f",
       "version_major": 2,
       "version_minor": 0
      },
      "text/plain": [
       "  0%|          | 0/201 [00:00<?, ?it/s]"
      ]
     },
     "metadata": {},
     "output_type": "display_data"
    },
    {
     "name": "stderr",
     "output_type": "stream",
     "text": [
      "C:\\Users\\4CFA~1\\AppData\\Local\\Temp/ipykernel_17728/3542971422.py:5: RuntimeWarning: divide by zero encountered in true_divide\n",
      "  return a / (1 + b * x)\n",
      "C:\\Users\\4CFA~1\\AppData\\Local\\Temp/ipykernel_17728/3542971422.py:5: RuntimeWarning: invalid value encountered in true_divide\n",
      "  return a / (1 + b * x)\n"
     ]
    },
    {
     "data": {
      "text/plain": [
       "(0.6499999999999999, -0.5700000000000001)"
      ]
     },
     "execution_count": 400,
     "metadata": {},
     "output_type": "execute_result"
    }
   ],
   "source": [
    "rat_exh_x, rat_exh_b = brute_2d(least_squares_rational, limits=((-1, 1), (-1, 1)), eps=0.01)[0]\n",
    "rat_exh_x, rat_exh_b"
   ]
  },
  {
   "cell_type": "code",
   "execution_count": 401,
   "id": "924b7125-87f6-43fd-b6ab-0523424d0cb8",
   "metadata": {},
   "outputs": [
    {
     "data": {
      "text/plain": [
       "(0.6511529998630865, -0.5724261182102853)"
      ]
     },
     "execution_count": 401,
     "metadata": {},
     "output_type": "execute_result"
    }
   ],
   "source": [
    "rat_gauss_x, rat_gauss_b = optimize.minimize(least_squares_rational, [1, 1], method='Powell').x\n",
    "rat_gauss_x, rat_gauss_b"
   ]
  },
  {
   "cell_type": "code",
   "execution_count": 402,
   "id": "dec57980-ee22-43dd-9753-6ca1b556bebf",
   "metadata": {},
   "outputs": [
    {
     "data": {
      "text/plain": [
       "(0.6512268900891245, -0.5724745445324553)"
      ]
     },
     "execution_count": 402,
     "metadata": {},
     "output_type": "execute_result"
    }
   ],
   "source": [
    "rat_NM_x, rat_NM_b = optimize.minimize(least_squares_rational, [1, 1], method='Nelder-Mead', options={'xatol' : 1e-3}).x\n",
    "rat_NM_x, rat_NM_b"
   ]
  },
  {
   "cell_type": "code",
   "execution_count": 404,
   "id": "e6ee7548-87ec-4ebd-8817-f14b46bfb466",
   "metadata": {},
   "outputs": [
    {
     "data": {
      "image/png": "[encoded data removed]",
      "text/plain": [
       "<Figure size 864x648 with 1 Axes>"
      ]
     },
     "metadata": {
      "needs_background": "light"
     },
     "output_type": "display_data"
    }
   ],
   "source": [
    "plt.figure(figsize=(12,9))\n",
    "plt.scatter(x, y, marker=\"x\", color='green')\n",
    "plt.plot(x, y_no_noise, color='red', label='Generative line')\n",
    "\n",
    "plt.plot(x, [f_rational(x[i], rat_gauss_x, rat_gauss_b)  for i in  range(len(x))], label='Gauss', color='y', linewidth=1)\n",
    "plt.plot(x, [f_rational(x[i], rat_NM_x, rat_NM_b) for i in  range(len(x))], label='Nelder-Mead', color='b', linewidth=1)\n",
    "plt.plot(x, [f_rational(x[i], rat_exh_x, rat_exh_b) for i in  range(len(x))], label='Brute', color='purple', linewidth=1)\n",
    "\n",
    "plt.legend()\n",
    "\n",
    "plt.savefig(\"rational.png\")"
   ]
  },
  {
   "cell_type": "code",
   "execution_count": null,
   "id": "a181e011-6b1c-47cf-9d42-e1fc2c93e155",
   "metadata": {},
   "outputs": [],
   "source": []
  }
 ],
 "metadata": {
  "kernelspec": {
   "display_name": "Python 3 (ipykernel)",
   "language": "python",
   "name": "python3"
  },
  "language_info": {
   "codemirror_mode": {
    "name": "ipython",
    "version": 3
   },
   "file_extension": ".py",
   "mimetype": "text/x-python",
   "name": "python",
   "nbconvert_exporter": "python",
   "pygments_lexer": "ipython3",
   "version": "3.10.0"
  }
 },
 "nbformat": 4,
 "nbformat_minor": 5
}
