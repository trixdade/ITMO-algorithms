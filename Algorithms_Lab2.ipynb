{
 "cells": [
  {
   "cell_type": "code",
   "execution_count": 386,
   "id": "da39b835-ad91-443a-b674-a0f22a6edc14",
   "metadata": {},
   "outputs": [],
   "source": [
    "import pandas as pd\n",
    "import numpy as np\n",
    "import matplotlib.pyplot as plt\n",
    "import seaborn as sns\n",
    "from scipy import optimize as opt\n",
    "import math\n",
    "import timeit"
   ]
  },
  {
   "cell_type": "code",
   "execution_count": 540,
   "id": "2998e647-7821-42ae-a037-70045ac06c1a",
   "metadata": {},
   "outputs": [],
   "source": [
    "def f_1(x):\n",
    "    return np.power(x, 3)\n",
    "\n",
    "def f_2(x):\n",
    "    return np.abs(x-0.2)\n",
    "\n",
    "def f_3(x):\n",
    "    return np.multiply(x, np.sin(1/x))"
   ]
  },
  {
   "cell_type": "code",
   "execution_count": 541,
   "id": "69d86a84-6f5c-4ede-8813-d2646eb8db77",
   "metadata": {},
   "outputs": [],
   "source": [
    "eps = 0.0001"
   ]
  },
  {
   "cell_type": "code",
   "execution_count": 542,
   "id": "0c9e380e-5bf8-4b2e-b0ea-d05e3ba673e1",
   "metadata": {},
   "outputs": [],
   "source": [
    "def exhaustive_search(f, a, b):\n",
    "    n = (b-a)/eps\n",
    "    f_min = f(a)\n",
    "    count = 1\n",
    "    x_min = a\n",
    "    for i in range(int(n)):\n",
    "        f_new = f(a + i*(b-a)/n)\n",
    "        count += 1\n",
    "        if f_new < f_min:\n",
    "            f_min = f_new\n",
    "            x_min = a + i*(b-a)/n\n",
    "    \n",
    "    return x_min, count, int(n)"
   ]
  },
  {
   "cell_type": "code",
   "execution_count": 543,
   "id": "1fa7a6f5-8cb8-46b8-a429-3d95d8ea67b1",
   "metadata": {
    "tags": []
   },
   "outputs": [],
   "source": [
    "def dichotomy(f, a, b):\n",
    "    beta = eps/2\n",
    "    count = 0\n",
    "    iterations = 0\n",
    "    while np.abs(a-b) > eps:\n",
    "        iterations +=1\n",
    "        x_1 = (a + b - beta)/2\n",
    "        x_2 = (a + b + beta)/2\n",
    "        count += 2\n",
    "        \n",
    "        if f(x_1) <= f(x_2):\n",
    "            b = x_2\n",
    "        else:\n",
    "            a = x_1\n",
    "    \n",
    "    return (a+b) / 2, count, int(iterations)"
   ]
  },
  {
   "cell_type": "code",
   "execution_count": 544,
   "id": "ea58d535-0ac3-47b6-81d3-d799c5aa01c9",
   "metadata": {},
   "outputs": [],
   "source": [
    "invphi = (math.sqrt(5) - 1) / 2 \n",
    "invphi2 = (3 - math.sqrt(5)) / 2 \n",
    "\n",
    "def golden_section_search(f, a, b):\n",
    "    count = 0\n",
    "    (a, b) = (min(a, b), max(a, b))\n",
    "    h = b - a\n",
    "\n",
    "    # Required steps to achieve eps\n",
    "    n = int(math.ceil(math.log(eps / h) / math.log(invphi)))\n",
    "\n",
    "    c = a + invphi2 * h\n",
    "    d = a + invphi * h\n",
    "    yc = f(c)\n",
    "    yd = f(d)\n",
    "    count = 2\n",
    "    for k in range(n-1):\n",
    "        if yc < yd:\n",
    "            b = d\n",
    "            d = c\n",
    "            yd = yc\n",
    "            h = invphi * h\n",
    "            c = a + invphi2 * h\n",
    "            yc = f(c)\n",
    "            count += 1\n",
    "        else:\n",
    "            a = c\n",
    "            c = d\n",
    "            yc = yd\n",
    "            h = invphi * h\n",
    "            d = a + invphi * h\n",
    "            yd = f(d)\n",
    "            count += 1\n",
    "\n",
    "    if yc < yd:\n",
    "        return (a+d)/2, count, n\n",
    "    else:\n",
    "        return (c+b)/2, count, n"
   ]
  },
  {
   "cell_type": "code",
   "execution_count": 545,
   "id": "675d3a96-3be5-475a-9788-36aa28b0b552",
   "metadata": {},
   "outputs": [
    {
     "data": {
      "text/plain": [
       "(0, 10001, 10000)"
      ]
     },
     "execution_count": 545,
     "metadata": {},
     "output_type": "execute_result"
    }
   ],
   "source": [
    "# exhaustive_search\n",
    "exhaustive_search(f_1, 0, 1)"
   ]
  },
  {
   "cell_type": "code",
   "execution_count": 546,
   "id": "f37a2d4f-3af7-4b20-8c7f-ebacfae14efa",
   "metadata": {},
   "outputs": [
    {
     "data": {
      "text/plain": [
       "(0.2, 10001, 10000)"
      ]
     },
     "execution_count": 546,
     "metadata": {},
     "output_type": "execute_result"
    }
   ],
   "source": [
    "exhaustive_search(f_2, 0, 1)"
   ]
  },
  {
   "cell_type": "code",
   "execution_count": 547,
   "id": "46405a0e-5387-4901-8e7f-8f170bbb6fbf",
   "metadata": {},
   "outputs": [
    {
     "data": {
      "text/plain": [
       "(0.2225, 9901, 9900)"
      ]
     },
     "execution_count": 547,
     "metadata": {},
     "output_type": "execute_result"
    }
   ],
   "source": [
    "exhaustive_search(f_3, 0.01, 1)"
   ]
  },
  {
   "cell_type": "code",
   "execution_count": 548,
   "id": "2daf9b0a-0f5f-4051-8812-4b987d9f46ef",
   "metadata": {},
   "outputs": [
    {
     "data": {
      "text/plain": [
       "(4.0258026123046875e-05, 30, 15)"
      ]
     },
     "execution_count": 548,
     "metadata": {},
     "output_type": "execute_result"
    }
   ],
   "source": [
    "# dichotomy\n",
    "dichotomy(f_1, 0, 1)"
   ]
  },
  {
   "cell_type": "code",
   "execution_count": 549,
   "id": "971af3f9-0c16-4455-98f3-d9a2a8ce744d",
   "metadata": {},
   "outputs": [
    {
     "data": {
      "text/plain": [
       "(0.2000119483947754, 30, 15)"
      ]
     },
     "execution_count": 549,
     "metadata": {},
     "output_type": "execute_result"
    }
   ],
   "source": [
    "dichotomy(f_2, 0, 1)"
   ]
  },
  {
   "cell_type": "code",
   "execution_count": 550,
   "id": "7543dc83-d8b0-4520-b7b1-35214cdfad8f",
   "metadata": {},
   "outputs": [
    {
     "data": {
      "text/plain": [
       "(0.22254341049194337, 30, 15)"
      ]
     },
     "execution_count": 550,
     "metadata": {},
     "output_type": "execute_result"
    }
   ],
   "source": [
    "dichotomy(f_3, 0.01, 1)"
   ]
  },
  {
   "cell_type": "code",
   "execution_count": 551,
   "id": "395e1859-82d7-4090-8f11-329b708fd84f",
   "metadata": {},
   "outputs": [
    {
     "data": {
      "text/plain": [
       "(3.305348067594804e-05, 21, 20)"
      ]
     },
     "execution_count": 551,
     "metadata": {},
     "output_type": "execute_result"
    }
   ],
   "source": [
    "# golden section search\n",
    "golden_section_search(f_1, 0, 1)"
   ]
  },
  {
   "cell_type": "code",
   "execution_count": 552,
   "id": "24ca6e73-c030-49d4-8ba2-f03cef373777",
   "metadata": {},
   "outputs": [
    {
     "data": {
      "text/plain": [
       "(0.2000198320884056, 21, 20)"
      ]
     },
     "execution_count": 552,
     "metadata": {},
     "output_type": "execute_result"
    }
   ],
   "source": [
    "golden_section_search(f_2, 0, 1)"
   ]
  },
  {
   "cell_type": "code",
   "execution_count": 553,
   "id": "8320c640-2511-4a6d-a184-202c92ca85bb",
   "metadata": {},
   "outputs": [
    {
     "data": {
      "text/plain": [
       "(0.22253575499749817, 21, 20)"
      ]
     },
     "execution_count": 553,
     "metadata": {},
     "output_type": "execute_result"
    }
   ],
   "source": [
    "golden_section_search(f_3, 0.01, 1)"
   ]
  },
  {
   "cell_type": "code",
   "execution_count": null,
   "id": "5516a93b-b533-4a77-abe4-d94de5c14907",
   "metadata": {},
   "outputs": [],
   "source": []
  },
  {
   "cell_type": "code",
   "execution_count": 513,
   "id": "20099ddd-5ab0-4443-a7f5-78624735510e",
   "metadata": {},
   "outputs": [],
   "source": [
    "alpha = np.random.uniform(0, 1)\n",
    "beta = np.random.uniform(0, 1)\n",
    "x = np.linspace(0, 1, 101)\n",
    "y = np.zeros(101)\n",
    "y_no_noise = np.zeros(101)"
   ]
  },
  {
   "cell_type": "code",
   "execution_count": 514,
   "id": "e02a0e8a-faec-4fde-a37a-4410775291da",
   "metadata": {},
   "outputs": [],
   "source": [
    "for i in range(len(x)):\n",
    "    y[i] = alpha*x[i] + beta + np.random.normal(0, 1)\n",
    "    \n",
    "for i in range(len(x)):\n",
    "    y_no_noise[i] = alpha*x[i] + beta"
   ]
  },
  {
   "cell_type": "code",
   "execution_count": 572,
   "id": "e469dc27-4380-4f13-af07-999a2b4b8a48",
   "metadata": {},
   "outputs": [],
   "source": [
    "def f_linear(a, b, x):\n",
    "    return a*x + b\n",
    "\n",
    "def f_rational(a, b, x):\n",
    "    return a/(1 + b*x)"
   ]
  },
  {
   "cell_type": "code",
   "execution_count": 516,
   "id": "ce5bc018-db14-47fd-9739-7566b778bf24",
   "metadata": {},
   "outputs": [],
   "source": [
    "eps = 0.001"
   ]
  },
  {
   "cell_type": "code",
   "execution_count": 557,
   "id": "d22c88a0-ece2-4d43-b2b1-38a7a9240ad3",
   "metadata": {},
   "outputs": [
    {
     "data": {
      "text/plain": [
       "<matplotlib.legend.Legend at 0x2401344e730>"
      ]
     },
     "execution_count": 557,
     "metadata": {},
     "output_type": "execute_result"
    },
    {
     "data": {
      "image/png": "[encoded data removed]",
      "text/plain": [
       "<Figure size 864x648 with 1 Axes>"
      ]
     },
     "metadata": {
      "needs_background": "light"
     },
     "output_type": "display_data"
    }
   ],
   "source": [
    "plt.figure(figsize=(12,9))\n",
    "plt.plot(y, label='Noisy data')\n",
    "plt.plot(y_no_noise, label='Generative line')\n",
    "plt.legend()"
   ]
  },
  {
   "cell_type": "code",
   "execution_count": 524,
   "id": "d994fc20-6a71-4f9a-8081-c5bc0dc65bee",
   "metadata": {},
   "outputs": [],
   "source": [
    "def least_squares(ab):\n",
    "    a, b = ab\n",
    "    global x, y \n",
    "    lst_sqr = [(f_linear(x[i],a,b) - y[i]) ** 2 for i in range(len(x))]       \n",
    "    return np.sum(lst_sqr)"
   ]
  },
  {
   "cell_type": "code",
   "execution_count": null,
   "id": "40f95b8d-da80-46c6-8567-600a694ea115",
   "metadata": {},
   "outputs": [],
   "source": []
  },
  {
   "cell_type": "code",
   "execution_count": 554,
   "id": "a3212a0a-4edd-44e2-9626-cc0b2bbd72d8",
   "metadata": {},
   "outputs": [],
   "source": [
    "brute = []\n",
    "for a in np.linspace(0, 1, 1001):\n",
    "    for b in np.linspace(0, 1, 1001):\n",
    "        value = least_squares([a, b])\n",
    "        brute.append([value, a, b])\n",
    "    "
   ]
  },
  {
   "cell_type": "code",
   "execution_count": 558,
   "id": "3f31718a-cf60-4d81-92a1-98869d5531f5",
   "metadata": {},
   "outputs": [],
   "source": [
    "df = pd.DataFrame(brute).rename(columns={0 : \"value\", 1 : \"alpha\", 2 : \"beta\"})"
   ]
  },
  {
   "cell_type": "code",
   "execution_count": 559,
   "id": "127b8185-cf70-43b9-80be-7571e97b7418",
   "metadata": {},
   "outputs": [
    {
     "data": {
      "text/html": [
       "<div>\n",
       "<style scoped>\n",
       "    .dataframe tbody tr th:only-of-type {\n",
       "        vertical-align: middle;\n",
       "    }\n",
       "\n",
       "    .dataframe tbody tr th {\n",
       "        vertical-align: top;\n",
       "    }\n",
       "\n",
       "    .dataframe thead th {\n",
       "        text-align: right;\n",
       "    }\n",
       "</style>\n",
       "<table border=\"1\" class=\"dataframe\">\n",
       "  <thead>\n",
       "    <tr style=\"text-align: right;\">\n",
       "      <th></th>\n",
       "      <th>value</th>\n",
       "      <th>alpha</th>\n",
       "      <th>beta</th>\n",
       "    </tr>\n",
       "  </thead>\n",
       "  <tbody>\n",
       "    <tr>\n",
       "      <th>0</th>\n",
       "      <td>205.513920</td>\n",
       "      <td>0.0</td>\n",
       "      <td>0.000</td>\n",
       "    </tr>\n",
       "    <tr>\n",
       "      <th>1</th>\n",
       "      <td>205.406990</td>\n",
       "      <td>0.0</td>\n",
       "      <td>0.001</td>\n",
       "    </tr>\n",
       "    <tr>\n",
       "      <th>2</th>\n",
       "      <td>205.300128</td>\n",
       "      <td>0.0</td>\n",
       "      <td>0.002</td>\n",
       "    </tr>\n",
       "    <tr>\n",
       "      <th>3</th>\n",
       "      <td>205.193334</td>\n",
       "      <td>0.0</td>\n",
       "      <td>0.003</td>\n",
       "    </tr>\n",
       "    <tr>\n",
       "      <th>4</th>\n",
       "      <td>205.086607</td>\n",
       "      <td>0.0</td>\n",
       "      <td>0.004</td>\n",
       "    </tr>\n",
       "    <tr>\n",
       "      <th>...</th>\n",
       "      <td>...</td>\n",
       "      <td>...</td>\n",
       "      <td>...</td>\n",
       "    </tr>\n",
       "    <tr>\n",
       "      <th>1001996</th>\n",
       "      <td>140.659066</td>\n",
       "      <td>1.0</td>\n",
       "      <td>0.996</td>\n",
       "    </tr>\n",
       "    <tr>\n",
       "      <th>1001997</th>\n",
       "      <td>140.720535</td>\n",
       "      <td>1.0</td>\n",
       "      <td>0.997</td>\n",
       "    </tr>\n",
       "    <tr>\n",
       "      <th>1001998</th>\n",
       "      <td>140.782073</td>\n",
       "      <td>1.0</td>\n",
       "      <td>0.998</td>\n",
       "    </tr>\n",
       "    <tr>\n",
       "      <th>1001999</th>\n",
       "      <td>140.843677</td>\n",
       "      <td>1.0</td>\n",
       "      <td>0.999</td>\n",
       "    </tr>\n",
       "    <tr>\n",
       "      <th>1002000</th>\n",
       "      <td>140.905350</td>\n",
       "      <td>1.0</td>\n",
       "      <td>1.000</td>\n",
       "    </tr>\n",
       "  </tbody>\n",
       "</table>\n",
       "<p>1002001 rows × 3 columns</p>\n",
       "</div>"
      ],
      "text/plain": [
       "              value  alpha   beta\n",
       "0        205.513920    0.0  0.000\n",
       "1        205.406990    0.0  0.001\n",
       "2        205.300128    0.0  0.002\n",
       "3        205.193334    0.0  0.003\n",
       "4        205.086607    0.0  0.004\n",
       "...             ...    ...    ...\n",
       "1001996  140.659066    1.0  0.996\n",
       "1001997  140.720535    1.0  0.997\n",
       "1001998  140.782073    1.0  0.998\n",
       "1001999  140.843677    1.0  0.999\n",
       "1002000  140.905350    1.0  1.000\n",
       "\n",
       "[1002001 rows x 3 columns]"
      ]
     },
     "execution_count": 559,
     "metadata": {},
     "output_type": "execute_result"
    }
   ],
   "source": [
    "df"
   ]
  },
  {
   "cell_type": "code",
   "execution_count": 560,
   "id": "e7268617-ea84-44cb-a75d-fca6673dd099",
   "metadata": {},
   "outputs": [
    {
     "data": {
      "text/plain": [
       "array([109.81053751,   0.66      ,   0.596     ])"
      ]
     },
     "execution_count": 560,
     "metadata": {},
     "output_type": "execute_result"
    }
   ],
   "source": [
    "df.sort_values(by='value').head(1).values[0]"
   ]
  },
  {
   "cell_type": "code",
   "execution_count": 555,
   "id": "3e6358a9-2df5-49ec-9257-7cc7b832b6b5",
   "metadata": {},
   "outputs": [
    {
     "name": "stdout",
     "output_type": "stream",
     "text": [
      "Optimization terminated successfully.\n",
      "         Current function value: 109.810532\n",
      "         Iterations: 3\n",
      "         Function evaluations: 107\n"
     ]
    },
    {
     "name": "stderr",
     "output_type": "stream",
     "text": [
      "C:\\Users\\rbezaev\\AppData\\Local\\Temp/ipykernel_25572/4111296159.py:1: OptimizeWarning: Unknown solver options: xatol\n",
      "  optimize.minimize(least_squares, [1, 1], method='Powell', options={'disp' : True, 'xatol' : 1e-3})\n"
     ]
    },
    {
     "data": {
      "text/plain": [
       "   direc: array([[ 0.        ,  1.        ],\n",
       "       [ 0.15095207, -0.2253016 ]])\n",
       "     fun: 109.8105316523595\n",
       " message: 'Optimization terminated successfully.'\n",
       "    nfev: 107\n",
       "     nit: 3\n",
       "  status: 0\n",
       " success: True\n",
       "       x: array([0.66009663, 0.59544846])"
      ]
     },
     "execution_count": 555,
     "metadata": {},
     "output_type": "execute_result"
    }
   ],
   "source": [
    "optimize.minimize(least_squares, [1, 1], method='Powell', options={'disp' : True, 'xatol' : 1e-3})"
   ]
  },
  {
   "cell_type": "code",
   "execution_count": 556,
   "id": "af755476-afc8-4214-8831-6ba37743c7af",
   "metadata": {},
   "outputs": [
    {
     "name": "stdout",
     "output_type": "stream",
     "text": [
      "Optimization terminated successfully.\n",
      "         Current function value: 109.810533\n",
      "         Iterations: 35\n",
      "         Function evaluations: 68\n"
     ]
    },
    {
     "data": {
      "text/plain": [
       " final_simplex: (array([[0.66034213, 0.59509883],\n",
       "       [0.65978576, 0.5959644 ],\n",
       "       [0.66025912, 0.59550223]]), array([109.81053321, 109.81053422, 109.8105353 ]))\n",
       "           fun: 109.81053320643284\n",
       "       message: 'Optimization terminated successfully.'\n",
       "          nfev: 68\n",
       "           nit: 35\n",
       "        status: 0\n",
       "       success: True\n",
       "             x: array([0.66034213, 0.59509883])"
      ]
     },
     "execution_count": 556,
     "metadata": {},
     "output_type": "execute_result"
    }
   ],
   "source": [
    "optimize.minimize(least_squares, [1, 1], method='Nelder-Mead', options={'disp' : True, 'xatol' : 1e-3})"
   ]
  },
  {
   "cell_type": "code",
   "execution_count": 562,
   "id": "9ca76271-f1f8-4c2a-8e8a-793f88fc9691",
   "metadata": {},
   "outputs": [
    {
     "data": {
      "text/plain": [
       "<matplotlib.legend.Legend at 0x240092eb640>"
      ]
     },
     "execution_count": 562,
     "metadata": {},
     "output_type": "execute_result"
    },
    {
     "data": {
      "image/png": "[encoded data removed]",
      "text/plain": [
       "<Figure size 864x648 with 1 Axes>"
      ]
     },
     "metadata": {
      "needs_background": "light"
     },
     "output_type": "display_data"
    }
   ],
   "source": [
    "plt.figure(figsize=(12,9))\n",
    "plt.scatter(x, y, marker=\"x\", color='green')\n",
    "plt.plot(x, y_no_noise, color='red', label='Generative line')\n",
    "plt.plot(x, [0.66*x[i] + 0.596 for i in  range(len(x))], label='Exhaustive Search', color='black', linewidth=1)\n",
    "plt.plot(x, [0.66*x[i] + 0.595 for i in  range(len(x))], label='Gauss', color='yellow', linewidth=1)\n",
    "plt.plot(x, [0.66*x[i] + 0.595 for i in  range(len(x))], label='Nelder-Mead', color='blue', linewidth=1)\n",
    "plt.legend()"
   ]
  },
  {
   "cell_type": "code",
   "execution_count": 563,
   "id": "b0a8862a-44a9-48b0-aa26-dedb26a45889",
   "metadata": {},
   "outputs": [],
   "source": [
    "def least_squares_rational(ab):\n",
    "    a, b = ab\n",
    "    global x, y \n",
    "    lst_sqr = [(f_rational(x[i],a,b) - y[i]) ** 2 for i in range(len(x))]       \n",
    "    return np.sum(lst_sqr)"
   ]
  },
  {
   "cell_type": "code",
   "execution_count": 564,
   "id": "41c37b49-3573-45dd-a003-2b2645ab8133",
   "metadata": {},
   "outputs": [],
   "source": [
    "brute_rational = []\n",
    "for a in np.linspace(0, 1, 1001):\n",
    "    for b in np.linspace(0, 1, 1001):\n",
    "        value = least_squares_rational([a, b])\n",
    "        brute_rational.append([value, a, b])\n",
    "    "
   ]
  },
  {
   "cell_type": "code",
   "execution_count": 565,
   "id": "d7aeb930-ba15-417c-9709-f97d78a8799e",
   "metadata": {},
   "outputs": [],
   "source": [
    "df_rat = pd.DataFrame(brute_rational).rename(columns={0 : \"value\", 1 : \"alpha\", 2 : \"beta\"})"
   ]
  },
  {
   "cell_type": "code",
   "execution_count": 566,
   "id": "699b6976-3087-469b-8fa5-f2f15672e1ab",
   "metadata": {},
   "outputs": [
    {
     "data": {
      "text/html": [
       "<div>\n",
       "<style scoped>\n",
       "    .dataframe tbody tr th:only-of-type {\n",
       "        vertical-align: middle;\n",
       "    }\n",
       "\n",
       "    .dataframe tbody tr th {\n",
       "        vertical-align: top;\n",
       "    }\n",
       "\n",
       "    .dataframe thead th {\n",
       "        text-align: right;\n",
       "    }\n",
       "</style>\n",
       "<table border=\"1\" class=\"dataframe\">\n",
       "  <thead>\n",
       "    <tr style=\"text-align: right;\">\n",
       "      <th></th>\n",
       "      <th>value</th>\n",
       "      <th>alpha</th>\n",
       "      <th>beta</th>\n",
       "    </tr>\n",
       "  </thead>\n",
       "  <tbody>\n",
       "    <tr>\n",
       "      <th>0</th>\n",
       "      <td>132.385164</td>\n",
       "      <td>0.0</td>\n",
       "      <td>0.000</td>\n",
       "    </tr>\n",
       "    <tr>\n",
       "      <th>1</th>\n",
       "      <td>132.385164</td>\n",
       "      <td>0.0</td>\n",
       "      <td>0.001</td>\n",
       "    </tr>\n",
       "    <tr>\n",
       "      <th>2</th>\n",
       "      <td>132.385164</td>\n",
       "      <td>0.0</td>\n",
       "      <td>0.002</td>\n",
       "    </tr>\n",
       "    <tr>\n",
       "      <th>3</th>\n",
       "      <td>132.385164</td>\n",
       "      <td>0.0</td>\n",
       "      <td>0.003</td>\n",
       "    </tr>\n",
       "    <tr>\n",
       "      <th>4</th>\n",
       "      <td>132.385164</td>\n",
       "      <td>0.0</td>\n",
       "      <td>0.004</td>\n",
       "    </tr>\n",
       "    <tr>\n",
       "      <th>...</th>\n",
       "      <td>...</td>\n",
       "      <td>...</td>\n",
       "      <td>...</td>\n",
       "    </tr>\n",
       "    <tr>\n",
       "      <th>1001996</th>\n",
       "      <td>160.417551</td>\n",
       "      <td>1.0</td>\n",
       "      <td>0.996</td>\n",
       "    </tr>\n",
       "    <tr>\n",
       "      <th>1001997</th>\n",
       "      <td>160.435882</td>\n",
       "      <td>1.0</td>\n",
       "      <td>0.997</td>\n",
       "    </tr>\n",
       "    <tr>\n",
       "      <th>1001998</th>\n",
       "      <td>160.454199</td>\n",
       "      <td>1.0</td>\n",
       "      <td>0.998</td>\n",
       "    </tr>\n",
       "    <tr>\n",
       "      <th>1001999</th>\n",
       "      <td>160.472503</td>\n",
       "      <td>1.0</td>\n",
       "      <td>0.999</td>\n",
       "    </tr>\n",
       "    <tr>\n",
       "      <th>1002000</th>\n",
       "      <td>160.490792</td>\n",
       "      <td>1.0</td>\n",
       "      <td>1.000</td>\n",
       "    </tr>\n",
       "  </tbody>\n",
       "</table>\n",
       "<p>1002001 rows × 3 columns</p>\n",
       "</div>"
      ],
      "text/plain": [
       "              value  alpha   beta\n",
       "0        132.385164    0.0  0.000\n",
       "1        132.385164    0.0  0.001\n",
       "2        132.385164    0.0  0.002\n",
       "3        132.385164    0.0  0.003\n",
       "4        132.385164    0.0  0.004\n",
       "...             ...    ...    ...\n",
       "1001996  160.417551    1.0  0.996\n",
       "1001997  160.435882    1.0  0.997\n",
       "1001998  160.454199    1.0  0.998\n",
       "1001999  160.472503    1.0  0.999\n",
       "1002000  160.490792    1.0  1.000\n",
       "\n",
       "[1002001 rows x 3 columns]"
      ]
     },
     "execution_count": 566,
     "metadata": {},
     "output_type": "execute_result"
    }
   ],
   "source": [
    "df_rat"
   ]
  },
  {
   "cell_type": "code",
   "execution_count": 570,
   "id": "f28504cc-9455-4b70-a23f-c1f4884c9214",
   "metadata": {},
   "outputs": [
    {
     "data": {
      "text/html": [
       "<div>\n",
       "<style scoped>\n",
       "    .dataframe tbody tr th:only-of-type {\n",
       "        vertical-align: middle;\n",
       "    }\n",
       "\n",
       "    .dataframe tbody tr th {\n",
       "        vertical-align: top;\n",
       "    }\n",
       "\n",
       "    .dataframe thead th {\n",
       "        text-align: right;\n",
       "    }\n",
       "</style>\n",
       "<table border=\"1\" class=\"dataframe\">\n",
       "  <thead>\n",
       "    <tr style=\"text-align: right;\">\n",
       "      <th></th>\n",
       "      <th>value</th>\n",
       "      <th>alpha</th>\n",
       "      <th>beta</th>\n",
       "    </tr>\n",
       "  </thead>\n",
       "  <tbody>\n",
       "    <tr>\n",
       "      <th>0</th>\n",
       "      <td>132.385164</td>\n",
       "      <td>0.000</td>\n",
       "      <td>0.0</td>\n",
       "    </tr>\n",
       "    <tr>\n",
       "      <th>518518</th>\n",
       "      <td>132.385164</td>\n",
       "      <td>0.518</td>\n",
       "      <td>0.0</td>\n",
       "    </tr>\n",
       "    <tr>\n",
       "      <th>711711</th>\n",
       "      <td>132.385164</td>\n",
       "      <td>0.711</td>\n",
       "      <td>0.0</td>\n",
       "    </tr>\n",
       "    <tr>\n",
       "      <th>309309</th>\n",
       "      <td>132.385164</td>\n",
       "      <td>0.309</td>\n",
       "      <td>0.0</td>\n",
       "    </tr>\n",
       "    <tr>\n",
       "      <th>897897</th>\n",
       "      <td>132.385164</td>\n",
       "      <td>0.897</td>\n",
       "      <td>0.0</td>\n",
       "    </tr>\n",
       "  </tbody>\n",
       "</table>\n",
       "</div>"
      ],
      "text/plain": [
       "             value  alpha  beta\n",
       "0       132.385164  0.000   0.0\n",
       "518518  132.385164  0.518   0.0\n",
       "711711  132.385164  0.711   0.0\n",
       "309309  132.385164  0.309   0.0\n",
       "897897  132.385164  0.897   0.0"
      ]
     },
     "execution_count": 570,
     "metadata": {},
     "output_type": "execute_result"
    }
   ],
   "source": [
    "df_rat.sort_values(by='value').head()"
   ]
  },
  {
   "cell_type": "code",
   "execution_count": 569,
   "id": "924b7125-87f6-43fd-b6ab-0523424d0cb8",
   "metadata": {},
   "outputs": [
    {
     "name": "stdout",
     "output_type": "stream",
     "text": [
      "Optimization terminated successfully.\n",
      "         Current function value: 120.976864\n",
      "         Iterations: 2\n",
      "         Function evaluations: 70\n"
     ]
    },
    {
     "name": "stderr",
     "output_type": "stream",
     "text": [
      "C:\\Users\\rbezaev\\AppData\\Local\\Temp/ipykernel_25572/1431567467.py:1: OptimizeWarning: Unknown solver options: xatol\n",
      "  optimize.minimize(least_squares_rational, [1, 1], method='Powell', options={'disp' : True, 'xatol' : 1e-3})\n"
     ]
    },
    {
     "data": {
      "text/plain": [
       "   direc: array([[1., 0.],\n",
       "       [0., 1.]])\n",
       "     fun: 120.97686351101086\n",
       " message: 'Optimization terminated successfully.'\n",
       "    nfev: 70\n",
       "     nit: 2\n",
       "  status: 0\n",
       " success: True\n",
       "       x: array([-0.37003164,  0.99276863])"
      ]
     },
     "execution_count": 569,
     "metadata": {},
     "output_type": "execute_result"
    }
   ],
   "source": [
    "optimize.minimize(least_squares_rational, [1, 1], method='Powell', options={'disp' : True, 'xatol' : 1e-3})"
   ]
  },
  {
   "cell_type": "code",
   "execution_count": 568,
   "id": "dec57980-ee22-43dd-9753-6ca1b556bebf",
   "metadata": {},
   "outputs": [
    {
     "name": "stdout",
     "output_type": "stream",
     "text": [
      "Optimization terminated successfully.\n",
      "         Current function value: 120.976864\n",
      "         Iterations: 34\n",
      "         Function evaluations: 64\n"
     ]
    },
    {
     "data": {
      "text/plain": [
       " final_simplex: (array([[ 1.19649642, -0.30702421],\n",
       "       [ 1.1969577 , -0.30692202],\n",
       "       [ 1.19584814, -0.30720916]]), array([120.97686351, 120.97686357, 120.97686359]))\n",
       "           fun: 120.9768635122692\n",
       "       message: 'Optimization terminated successfully.'\n",
       "          nfev: 64\n",
       "           nit: 34\n",
       "        status: 0\n",
       "       success: True\n",
       "             x: array([ 1.19649642, -0.30702421])"
      ]
     },
     "execution_count": 568,
     "metadata": {},
     "output_type": "execute_result"
    }
   ],
   "source": [
    "optimize.minimize(least_squares_rational, [1, 1], method='Nelder-Mead', options={'disp' : True, 'xatol' : 1e-3})"
   ]
  },
  {
   "cell_type": "code",
   "execution_count": 574,
   "id": "e6ee7548-87ec-4ebd-8817-f14b46bfb466",
   "metadata": {},
   "outputs": [
    {
     "data": {
      "text/plain": [
       "<matplotlib.legend.Legend at 0x2401ff15ee0>"
      ]
     },
     "execution_count": 574,
     "metadata": {},
     "output_type": "execute_result"
    },
    {
     "data": {
      "image/png": "[encoded data removed]",
      "text/plain": [
       "<Figure size 864x648 with 1 Axes>"
      ]
     },
     "metadata": {
      "needs_background": "light"
     },
     "output_type": "display_data"
    }
   ],
   "source": [
    "plt.figure(figsize=(12,9))\n",
    "plt.scatter(x, y, marker=\"x\", color='green')\n",
    "plt.plot(x, y_no_noise, color='red', label='Generative line')\n",
    "plt.plot(x, [f_rational(x[i], 0.518, 0) for i in  range(len(x))], label='Exhaustive Search', color='black', linewidth=1)\n",
    "plt.plot(x, [f_rational(x[i], -0.37, 0.992)  for i in  range(len(x))], label='Gauss', color='yellow', linewidth=1)\n",
    "plt.plot(x, [f_rational(x[i], 1.196, -0.307) for i in  range(len(x))], label='Nelder-Mead', color='blue', linewidth=1)\n",
    "plt.legend()"
   ]
  },
  {
   "cell_type": "code",
   "execution_count": null,
   "id": "92fd6a66-ff2e-4311-bee4-120b0d9a26e6",
   "metadata": {},
   "outputs": [],
   "source": []
  }
 ],
 "metadata": {
  "kernelspec": {
   "display_name": "Python 3 (ipykernel)",
   "language": "python",
   "name": "python3"
  },
  "language_info": {
   "codemirror_mode": {
    "name": "ipython",
    "version": 3
   },
   "file_extension": ".py",
   "mimetype": "text/x-python",
   "name": "python",
   "nbconvert_exporter": "python",
   "pygments_lexer": "ipython3",
   "version": "3.9.5"
  }
 },
 "nbformat": 4,
 "nbformat_minor": 5
}
